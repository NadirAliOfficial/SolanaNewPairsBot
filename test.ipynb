{
 "cells": [
  {
   "cell_type": "code",
   "execution_count": 2,
   "metadata": {},
   "outputs": [
    {
     "name": "stderr",
     "output_type": "stream",
     "text": [
      "Testing instances: 100%|██████████| 9/9 [00:24<00:00,  2.69s/it]\n"
     ]
    }
   ],
   "source": [
    "from ntscraper import Nitter\n",
    "\n",
    "nitter = Nitter()\n"
   ]
  },
  {
   "cell_type": "code",
   "execution_count": 7,
   "metadata": {},
   "outputs": [
    {
     "name": "stdout",
     "output_type": "stream",
     "text": [
      "09-Feb-25 09:26:48 - No instance specified, using random instance https://nitter.privacydev.net\n"
     ]
    },
    {
     "data": {
      "text/plain": [
       "{'image': 'https://pbs.twimg.com/profile_images/1885922338983579649/W-5uks-5_400x400.jpg',\n",
       " 'name': 'ye',\n",
       " 'username': '@kanyewest',\n",
       " 'id': '169686021',\n",
       " 'bio': '',\n",
       " 'location': '',\n",
       " 'website': 'http://YEEZY.COM',\n",
       " 'joined': '11:00 PM - 22 Jul 2010',\n",
       " 'stats': {'tweets': 2339,\n",
       "  'following': 1,\n",
       "  'followers': 32969244,\n",
       "  'likes': 43,\n",
       "  'media': 0}}"
      ]
     },
     "execution_count": 7,
     "metadata": {},
     "output_type": "execute_result"
    }
   ],
   "source": [
    "info = nitter.get_profile_info(\"kanyewest/\")\n",
    "info"
   ]
  },
  {
   "cell_type": "code",
   "execution_count": 5,
   "metadata": {},
   "outputs": [
    {
     "name": "stdout",
     "output_type": "stream",
     "text": [
      "09-Feb-25 09:21:12 - No instance specified, using random instance https://nitter.privacydev.net\n",
      "09-Feb-25 09:21:23 - https://nitter.privacydev.net unreachable. Trying https://nitter.privacydev.net\n",
      "09-Feb-25 09:21:30 - Current stats for imVkohli/: 18 tweets, 0 threads...\n",
      "09-Feb-25 09:21:32 - Empty page on https://nitter.privacydev.net\n"
     ]
    }
   ],
   "source": [
    "info1 = nitter.get_tweets(\"imVkohli/\")  "
   ]
  },
  {
   "cell_type": "code",
   "execution_count": null,
   "metadata": {},
   "outputs": [],
   "source": []
  }
 ],
 "metadata": {
  "kernelspec": {
   "display_name": ".venv",
   "language": "python",
   "name": "python3"
  },
  "language_info": {
   "codemirror_mode": {
    "name": "ipython",
    "version": 3
   },
   "file_extension": ".py",
   "mimetype": "text/x-python",
   "name": "python",
   "nbconvert_exporter": "python",
   "pygments_lexer": "ipython3",
   "version": "3.12.3"
  }
 },
 "nbformat": 4,
 "nbformat_minor": 2
}
